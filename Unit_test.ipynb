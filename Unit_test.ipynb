{
  "nbformat": 4,
  "nbformat_minor": 0,
  "metadata": {
    "colab": {
      "provenance": []
    },
    "kernelspec": {
      "name": "python3",
      "display_name": "Python 3"
    },
    "language_info": {
      "name": "python"
    }
  },
  "cells": [
    {
      "cell_type": "code",
      "source": [
        "pip install pytest-repeat # python plugin, easy to repeat a single test"
      ],
      "metadata": {
        "id": "PLhLCcab4vqO",
        "colab": {
          "base_uri": "https://localhost:8080/"
        },
        "outputId": "84392711-71de-4ada-da98-45988ac8dfeb"
      },
      "execution_count": 1,
      "outputs": [
        {
          "output_type": "stream",
          "name": "stdout",
          "text": [
            "Looking in indexes: https://pypi.org/simple, https://us-python.pkg.dev/colab-wheels/public/simple/\n",
            "Collecting pytest-repeat\n",
            "  Downloading pytest_repeat-0.9.1-py2.py3-none-any.whl (4.3 kB)\n",
            "Requirement already satisfied: pytest>=3.6 in /usr/local/lib/python3.8/dist-packages (from pytest-repeat) (3.6.4)\n",
            "Requirement already satisfied: more-itertools>=4.0.0 in /usr/local/lib/python3.8/dist-packages (from pytest>=3.6->pytest-repeat) (9.0.0)\n",
            "Requirement already satisfied: six>=1.10.0 in /usr/local/lib/python3.8/dist-packages (from pytest>=3.6->pytest-repeat) (1.15.0)\n",
            "Requirement already satisfied: setuptools in /usr/local/lib/python3.8/dist-packages (from pytest>=3.6->pytest-repeat) (57.4.0)\n",
            "Requirement already satisfied: atomicwrites>=1.0 in /usr/local/lib/python3.8/dist-packages (from pytest>=3.6->pytest-repeat) (1.4.1)\n",
            "Requirement already satisfied: attrs>=17.4.0 in /usr/local/lib/python3.8/dist-packages (from pytest>=3.6->pytest-repeat) (22.1.0)\n",
            "Requirement already satisfied: py>=1.5.0 in /usr/local/lib/python3.8/dist-packages (from pytest>=3.6->pytest-repeat) (1.11.0)\n",
            "Requirement already satisfied: pluggy<0.8,>=0.5 in /usr/local/lib/python3.8/dist-packages (from pytest>=3.6->pytest-repeat) (0.7.1)\n",
            "Installing collected packages: pytest-repeat\n",
            "Successfully installed pytest-repeat-0.9.1\n"
          ]
        }
      ]
    },
    {
      "cell_type": "code",
      "source": [
        "pip install pytest-benchmark # A pytest fixture for benchmarking code. It will group the tests into rounds that are calibrated to the chosen timer."
      ],
      "metadata": {
        "id": "9hstm6W45uGZ",
        "colab": {
          "base_uri": "https://localhost:8080/"
        },
        "outputId": "3d72cc95-d7ba-47d9-e750-f1a1920cc21d"
      },
      "execution_count": 2,
      "outputs": [
        {
          "output_type": "stream",
          "name": "stdout",
          "text": [
            "Looking in indexes: https://pypi.org/simple, https://us-python.pkg.dev/colab-wheels/public/simple/\n",
            "Collecting pytest-benchmark\n",
            "  Downloading pytest_benchmark-4.0.0-py3-none-any.whl (43 kB)\n",
            "\u001b[K     |████████████████████████████████| 43 kB 709 kB/s \n",
            "\u001b[?25hCollecting py-cpuinfo\n",
            "  Downloading py_cpuinfo-9.0.0-py3-none-any.whl (22 kB)\n",
            "Collecting pytest>=3.8\n",
            "  Downloading pytest-7.2.0-py3-none-any.whl (316 kB)\n",
            "\u001b[K     |████████████████████████████████| 316 kB 10.8 MB/s \n",
            "\u001b[?25hCollecting pluggy<2.0,>=0.12\n",
            "  Downloading pluggy-1.0.0-py2.py3-none-any.whl (13 kB)\n",
            "Requirement already satisfied: tomli>=1.0.0 in /usr/local/lib/python3.8/dist-packages (from pytest>=3.8->pytest-benchmark) (2.0.1)\n",
            "Requirement already satisfied: attrs>=19.2.0 in /usr/local/lib/python3.8/dist-packages (from pytest>=3.8->pytest-benchmark) (22.1.0)\n",
            "Collecting exceptiongroup>=1.0.0rc8\n",
            "  Downloading exceptiongroup-1.0.4-py3-none-any.whl (14 kB)\n",
            "Requirement already satisfied: packaging in /usr/local/lib/python3.8/dist-packages (from pytest>=3.8->pytest-benchmark) (21.3)\n",
            "Collecting iniconfig\n",
            "  Downloading iniconfig-1.1.1-py2.py3-none-any.whl (5.0 kB)\n",
            "Requirement already satisfied: pyparsing!=3.0.5,>=2.0.2 in /usr/local/lib/python3.8/dist-packages (from packaging->pytest>=3.8->pytest-benchmark) (3.0.9)\n",
            "Installing collected packages: pluggy, iniconfig, exceptiongroup, pytest, py-cpuinfo, pytest-benchmark\n",
            "  Attempting uninstall: pluggy\n",
            "    Found existing installation: pluggy 0.7.1\n",
            "    Uninstalling pluggy-0.7.1:\n",
            "      Successfully uninstalled pluggy-0.7.1\n",
            "  Attempting uninstall: pytest\n",
            "    Found existing installation: pytest 3.6.4\n",
            "    Uninstalling pytest-3.6.4:\n",
            "      Successfully uninstalled pytest-3.6.4\n",
            "Successfully installed exceptiongroup-1.0.4 iniconfig-1.1.1 pluggy-1.0.0 py-cpuinfo-9.0.0 pytest-7.2.0 pytest-benchmark-4.0.0\n"
          ]
        }
      ]
    },
    {
      "cell_type": "code",
      "source": [
        "pip install alarm # command line alarm clock"
      ],
      "metadata": {
        "id": "yoLTqhyY6-ou",
        "colab": {
          "base_uri": "https://localhost:8080/"
        },
        "outputId": "bd2f3092-16c2-4abe-a833-c949c97a7a01"
      },
      "execution_count": 3,
      "outputs": [
        {
          "output_type": "stream",
          "name": "stdout",
          "text": [
            "Looking in indexes: https://pypi.org/simple, https://us-python.pkg.dev/colab-wheels/public/simple/\n",
            "Collecting alarm\n",
            "  Downloading alarm-3.0.tar.gz (28 kB)\n",
            "\u001b[31mERROR: No .egg-info directory found in /tmp/pip-pip-egg-info-irqm8qab\u001b[0m\n"
          ]
        }
      ]
    },
    {
      "cell_type": "code",
      "source": [
        "pip install nox # command line tool to automate testing"
      ],
      "metadata": {
        "id": "dn139g9LFy4Z",
        "colab": {
          "base_uri": "https://localhost:8080/"
        },
        "outputId": "69393016-db82-4b34-9b8a-9d65610d1b88"
      },
      "execution_count": 4,
      "outputs": [
        {
          "output_type": "stream",
          "name": "stdout",
          "text": [
            "Looking in indexes: https://pypi.org/simple, https://us-python.pkg.dev/colab-wheels/public/simple/\n",
            "Collecting nox\n",
            "  Downloading nox-2022.11.21-py3-none-any.whl (53 kB)\n",
            "\u001b[K     |████████████████████████████████| 53 kB 1.4 MB/s \n",
            "\u001b[?25hCollecting colorlog<7.0.0,>=2.6.1\n",
            "  Downloading colorlog-6.7.0-py2.py3-none-any.whl (11 kB)\n",
            "Collecting argcomplete<3.0,>=1.9.4\n",
            "  Downloading argcomplete-2.0.0-py2.py3-none-any.whl (37 kB)\n",
            "Requirement already satisfied: packaging>=20.9 in /usr/local/lib/python3.8/dist-packages (from nox) (21.3)\n",
            "Collecting virtualenv>=14\n",
            "  Downloading virtualenv-20.17.0-py3-none-any.whl (8.8 MB)\n",
            "\u001b[K     |████████████████████████████████| 8.8 MB 10.2 MB/s \n",
            "\u001b[?25hRequirement already satisfied: pyparsing!=3.0.5,>=2.0.2 in /usr/local/lib/python3.8/dist-packages (from packaging>=20.9->nox) (3.0.9)\n",
            "Collecting platformdirs<3,>=2.4\n",
            "  Downloading platformdirs-2.5.4-py3-none-any.whl (14 kB)\n",
            "Collecting distlib<1,>=0.3.6\n",
            "  Downloading distlib-0.3.6-py2.py3-none-any.whl (468 kB)\n",
            "\u001b[K     |████████████████████████████████| 468 kB 68.7 MB/s \n",
            "\u001b[?25hRequirement already satisfied: filelock<4,>=3.4.1 in /usr/local/lib/python3.8/dist-packages (from virtualenv>=14->nox) (3.8.0)\n",
            "Installing collected packages: platformdirs, distlib, virtualenv, colorlog, argcomplete, nox\n",
            "Successfully installed argcomplete-2.0.0 colorlog-6.7.0 distlib-0.3.6 nox-2022.11.21 platformdirs-2.5.4 virtualenv-20.17.0\n"
          ]
        }
      ]
    },
    {
      "cell_type": "code",
      "source": [
        "pip install pyenv # switch between python versions"
      ],
      "metadata": {
        "id": "Ii_TOOz_GRpA",
        "colab": {
          "base_uri": "https://localhost:8080/"
        },
        "outputId": "8a693e27-3d42-4a14-abe1-5d28bd844e68"
      },
      "execution_count": 5,
      "outputs": [
        {
          "output_type": "stream",
          "name": "stdout",
          "text": [
            "Looking in indexes: https://pypi.org/simple, https://us-python.pkg.dev/colab-wheels/public/simple/\n",
            "Collecting pyenv\n",
            "  Downloading pyenv-0.0.1.tar.gz (1.4 kB)\n",
            "Building wheels for collected packages: pyenv\n",
            "  Building wheel for pyenv (setup.py) ... \u001b[?25lerror\n",
            "\u001b[31m  ERROR: Failed building wheel for pyenv\u001b[0m\n",
            "\u001b[?25h  Running setup.py clean for pyenv\n",
            "Failed to build pyenv\n",
            "Installing collected packages: pyenv\n",
            "    Running setup.py install for pyenv ... \u001b[?25l\u001b[?25herror\n",
            "\u001b[31mERROR: Command errored out with exit status 1: /usr/bin/python3 -u -c 'import io, os, sys, setuptools, tokenize; sys.argv[0] = '\"'\"'/tmp/pip-install-lsburs1a/pyenv_b7ce784b183949fe96875117e29fc9f3/setup.py'\"'\"'; __file__='\"'\"'/tmp/pip-install-lsburs1a/pyenv_b7ce784b183949fe96875117e29fc9f3/setup.py'\"'\"';f = getattr(tokenize, '\"'\"'open'\"'\"', open)(__file__) if os.path.exists(__file__) else io.StringIO('\"'\"'from setuptools import setup; setup()'\"'\"');code = f.read().replace('\"'\"'\\r\\n'\"'\"', '\"'\"'\\n'\"'\"');f.close();exec(compile(code, __file__, '\"'\"'exec'\"'\"'))' install --record /tmp/pip-record-s79gae9q/install-record.txt --single-version-externally-managed --compile --install-headers /usr/local/include/python3.8/pyenv Check the logs for full command output.\u001b[0m\n"
          ]
        }
      ]
    },
    {
      "cell_type": "code",
      "source": [
        "pip install tox # test automationand standardisation"
      ],
      "metadata": {
        "id": "UlZGmY4KF6ZG",
        "colab": {
          "base_uri": "https://localhost:8080/"
        },
        "outputId": "201adfc6-b290-4288-df61-17b9ba122527"
      },
      "execution_count": 6,
      "outputs": [
        {
          "output_type": "stream",
          "name": "stdout",
          "text": [
            "Looking in indexes: https://pypi.org/simple, https://us-python.pkg.dev/colab-wheels/public/simple/\n",
            "Collecting tox\n",
            "  Downloading tox-3.27.1-py2.py3-none-any.whl (86 kB)\n",
            "\u001b[K     |████████████████████████████████| 86 kB 2.9 MB/s \n",
            "\u001b[?25hRequirement already satisfied: virtualenv!=20.0.0,!=20.0.1,!=20.0.2,!=20.0.3,!=20.0.4,!=20.0.5,!=20.0.6,!=20.0.7,>=16.0.0 in /usr/local/lib/python3.8/dist-packages (from tox) (20.17.0)\n",
            "Requirement already satisfied: py>=1.4.17 in /usr/local/lib/python3.8/dist-packages (from tox) (1.11.0)\n",
            "Requirement already satisfied: pluggy>=0.12.0 in /usr/local/lib/python3.8/dist-packages (from tox) (1.0.0)\n",
            "Requirement already satisfied: six>=1.14.0 in /usr/local/lib/python3.8/dist-packages (from tox) (1.15.0)\n",
            "Requirement already satisfied: packaging>=14 in /usr/local/lib/python3.8/dist-packages (from tox) (21.3)\n",
            "Requirement already satisfied: tomli>=2.0.1 in /usr/local/lib/python3.8/dist-packages (from tox) (2.0.1)\n",
            "Requirement already satisfied: filelock>=3.0.0 in /usr/local/lib/python3.8/dist-packages (from tox) (3.8.0)\n",
            "Requirement already satisfied: pyparsing!=3.0.5,>=2.0.2 in /usr/local/lib/python3.8/dist-packages (from packaging>=14->tox) (3.0.9)\n",
            "Requirement already satisfied: distlib<1,>=0.3.6 in /usr/local/lib/python3.8/dist-packages (from virtualenv!=20.0.0,!=20.0.1,!=20.0.2,!=20.0.3,!=20.0.4,!=20.0.5,!=20.0.6,!=20.0.7,>=16.0.0->tox) (0.3.6)\n",
            "Requirement already satisfied: platformdirs<3,>=2.4 in /usr/local/lib/python3.8/dist-packages (from virtualenv!=20.0.0,!=20.0.1,!=20.0.2,!=20.0.3,!=20.0.4,!=20.0.5,!=20.0.6,!=20.0.7,>=16.0.0->tox) (2.5.4)\n",
            "Installing collected packages: tox\n",
            "Successfully installed tox-3.27.1\n"
          ]
        }
      ]
    },
    {
      "cell_type": "code",
      "source": [
        "pip install pytest-mccabe # code complexity checker"
      ],
      "metadata": {
        "id": "L37nvL97HK78",
        "colab": {
          "base_uri": "https://localhost:8080/"
        },
        "outputId": "9677b35b-d9ed-4a9b-8055-cb6b7b600570"
      },
      "execution_count": 7,
      "outputs": [
        {
          "output_type": "stream",
          "name": "stdout",
          "text": [
            "Looking in indexes: https://pypi.org/simple, https://us-python.pkg.dev/colab-wheels/public/simple/\n",
            "Collecting pytest-mccabe\n",
            "  Downloading pytest_mccabe-2.0-py2.py3-none-any.whl (6.2 kB)\n",
            "Collecting mccabe\n",
            "  Downloading mccabe-0.7.0-py2.py3-none-any.whl (7.3 kB)\n",
            "Requirement already satisfied: pytest>=5.4.0 in /usr/local/lib/python3.8/dist-packages (from pytest-mccabe) (7.2.0)\n",
            "Requirement already satisfied: exceptiongroup>=1.0.0rc8 in /usr/local/lib/python3.8/dist-packages (from pytest>=5.4.0->pytest-mccabe) (1.0.4)\n",
            "Requirement already satisfied: pluggy<2.0,>=0.12 in /usr/local/lib/python3.8/dist-packages (from pytest>=5.4.0->pytest-mccabe) (1.0.0)\n",
            "Requirement already satisfied: attrs>=19.2.0 in /usr/local/lib/python3.8/dist-packages (from pytest>=5.4.0->pytest-mccabe) (22.1.0)\n",
            "Requirement already satisfied: iniconfig in /usr/local/lib/python3.8/dist-packages (from pytest>=5.4.0->pytest-mccabe) (1.1.1)\n",
            "Requirement already satisfied: packaging in /usr/local/lib/python3.8/dist-packages (from pytest>=5.4.0->pytest-mccabe) (21.3)\n",
            "Requirement already satisfied: tomli>=1.0.0 in /usr/local/lib/python3.8/dist-packages (from pytest>=5.4.0->pytest-mccabe) (2.0.1)\n",
            "Requirement already satisfied: pyparsing!=3.0.5,>=2.0.2 in /usr/local/lib/python3.8/dist-packages (from packaging->pytest>=5.4.0->pytest-mccabe) (3.0.9)\n",
            "Installing collected packages: mccabe, pytest-mccabe\n",
            "Successfully installed mccabe-0.7.0 pytest-mccabe-2.0\n"
          ]
        }
      ]
    },
    {
      "cell_type": "code",
      "source": [
        "pip install pytest-sugar # "
      ],
      "metadata": {
        "id": "OI3Fe08FG0TB",
        "colab": {
          "base_uri": "https://localhost:8080/"
        },
        "outputId": "abfb9d27-a7c9-453a-ed43-c06576fb8f10"
      },
      "execution_count": 8,
      "outputs": [
        {
          "output_type": "stream",
          "name": "stdout",
          "text": [
            "Looking in indexes: https://pypi.org/simple, https://us-python.pkg.dev/colab-wheels/public/simple/\n",
            "Collecting pytest-sugar\n",
            "  Downloading pytest_sugar-0.9.6-py2.py3-none-any.whl (9.1 kB)\n",
            "Requirement already satisfied: termcolor>=1.1.0 in /usr/local/lib/python3.8/dist-packages (from pytest-sugar) (2.1.1)\n",
            "Requirement already satisfied: pytest>=2.9 in /usr/local/lib/python3.8/dist-packages (from pytest-sugar) (7.2.0)\n",
            "Requirement already satisfied: packaging>=14.1 in /usr/local/lib/python3.8/dist-packages (from pytest-sugar) (21.3)\n",
            "Requirement already satisfied: pyparsing!=3.0.5,>=2.0.2 in /usr/local/lib/python3.8/dist-packages (from packaging>=14.1->pytest-sugar) (3.0.9)\n",
            "Requirement already satisfied: attrs>=19.2.0 in /usr/local/lib/python3.8/dist-packages (from pytest>=2.9->pytest-sugar) (22.1.0)\n",
            "Requirement already satisfied: exceptiongroup>=1.0.0rc8 in /usr/local/lib/python3.8/dist-packages (from pytest>=2.9->pytest-sugar) (1.0.4)\n",
            "Requirement already satisfied: pluggy<2.0,>=0.12 in /usr/local/lib/python3.8/dist-packages (from pytest>=2.9->pytest-sugar) (1.0.0)\n",
            "Requirement already satisfied: tomli>=1.0.0 in /usr/local/lib/python3.8/dist-packages (from pytest>=2.9->pytest-sugar) (2.0.1)\n",
            "Requirement already satisfied: iniconfig in /usr/local/lib/python3.8/dist-packages (from pytest>=2.9->pytest-sugar) (1.1.1)\n",
            "Installing collected packages: pytest-sugar\n",
            "Successfully installed pytest-sugar-0.9.6\n"
          ]
        }
      ]
    },
    {
      "cell_type": "code",
      "source": [
        "pip install radon # "
      ],
      "metadata": {
        "id": "2s32GznIHb3q",
        "colab": {
          "base_uri": "https://localhost:8080/"
        },
        "outputId": "0871b96a-236d-4ce1-c7f1-0ac060e05753"
      },
      "execution_count": 9,
      "outputs": [
        {
          "output_type": "stream",
          "name": "stdout",
          "text": [
            "Looking in indexes: https://pypi.org/simple, https://us-python.pkg.dev/colab-wheels/public/simple/\n",
            "Collecting radon\n",
            "  Downloading radon-5.1.0-py2.py3-none-any.whl (52 kB)\n",
            "\u001b[K     |████████████████████████████████| 52 kB 708 kB/s \n",
            "\u001b[?25hCollecting colorama>=0.4.1\n",
            "  Downloading colorama-0.4.6-py2.py3-none-any.whl (25 kB)\n",
            "Collecting mando<0.7,>=0.6\n",
            "  Downloading mando-0.6.4-py2.py3-none-any.whl (29 kB)\n",
            "Requirement already satisfied: future in /usr/local/lib/python3.8/dist-packages (from radon) (0.16.0)\n",
            "Requirement already satisfied: six in /usr/local/lib/python3.8/dist-packages (from mando<0.7,>=0.6->radon) (1.15.0)\n",
            "Installing collected packages: mando, colorama, radon\n",
            "Successfully installed colorama-0.4.6 mando-0.6.4 radon-5.1.0\n"
          ]
        }
      ]
    },
    {
      "cell_type": "code",
      "source": [
        "pip install pytest-flakes # "
      ],
      "metadata": {
        "id": "rHZOWQVbKAFW",
        "colab": {
          "base_uri": "https://localhost:8080/"
        },
        "outputId": "a494b23e-bc3c-4f3c-8017-73081ecac044"
      },
      "execution_count": 11,
      "outputs": [
        {
          "output_type": "stream",
          "name": "stdout",
          "text": [
            "Looking in indexes: https://pypi.org/simple, https://us-python.pkg.dev/colab-wheels/public/simple/\n",
            "Collecting pytest-flakes\n",
            "  Downloading pytest_flakes-4.0.5-py2.py3-none-any.whl (6.8 kB)\n",
            "Requirement already satisfied: pytest>=5 in /usr/local/lib/python3.8/dist-packages (from pytest-flakes) (7.2.0)\n",
            "Collecting pyflakes\n",
            "  Downloading pyflakes-3.0.1-py2.py3-none-any.whl (62 kB)\n",
            "\u001b[K     |████████████████████████████████| 62 kB 979 kB/s \n",
            "\u001b[?25hRequirement already satisfied: tomli>=1.0.0 in /usr/local/lib/python3.8/dist-packages (from pytest>=5->pytest-flakes) (2.0.1)\n",
            "Requirement already satisfied: attrs>=19.2.0 in /usr/local/lib/python3.8/dist-packages (from pytest>=5->pytest-flakes) (22.1.0)\n",
            "Requirement already satisfied: iniconfig in /usr/local/lib/python3.8/dist-packages (from pytest>=5->pytest-flakes) (1.1.1)\n",
            "Requirement already satisfied: exceptiongroup>=1.0.0rc8 in /usr/local/lib/python3.8/dist-packages (from pytest>=5->pytest-flakes) (1.0.4)\n",
            "Requirement already satisfied: packaging in /usr/local/lib/python3.8/dist-packages (from pytest>=5->pytest-flakes) (21.3)\n",
            "Requirement already satisfied: pluggy<2.0,>=0.12 in /usr/local/lib/python3.8/dist-packages (from pytest>=5->pytest-flakes) (1.0.0)\n",
            "Requirement already satisfied: pyparsing!=3.0.5,>=2.0.2 in /usr/local/lib/python3.8/dist-packages (from packaging->pytest>=5->pytest-flakes) (3.0.9)\n",
            "Installing collected packages: pyflakes, pytest-flakes\n",
            "Successfully installed pyflakes-3.0.1 pytest-flakes-4.0.5\n"
          ]
        }
      ]
    },
    {
      "cell_type": "code",
      "source": [
        "pip install xenon # "
      ],
      "metadata": {
        "id": "3vKzrP7jMd6s",
        "colab": {
          "base_uri": "https://localhost:8080/"
        },
        "outputId": "a75fa761-b372-4dc4-f0ae-abdca015c91c"
      },
      "execution_count": 12,
      "outputs": [
        {
          "output_type": "stream",
          "name": "stdout",
          "text": [
            "Looking in indexes: https://pypi.org/simple, https://us-python.pkg.dev/colab-wheels/public/simple/\n",
            "Collecting xenon\n",
            "  Downloading xenon-0.9.0-py2.py3-none-any.whl (8.5 kB)\n",
            "Requirement already satisfied: radon<6,>=4 in /usr/local/lib/python3.8/dist-packages (from xenon) (5.1.0)\n",
            "Requirement already satisfied: requests<3.0,>=2.0 in /usr/local/lib/python3.8/dist-packages (from xenon) (2.23.0)\n",
            "Requirement already satisfied: PyYAML<7.0,>=4.2b1 in /usr/local/lib/python3.8/dist-packages (from xenon) (6.0)\n",
            "Requirement already satisfied: future in /usr/local/lib/python3.8/dist-packages (from radon<6,>=4->xenon) (0.16.0)\n",
            "Requirement already satisfied: colorama>=0.4.1 in /usr/local/lib/python3.8/dist-packages (from radon<6,>=4->xenon) (0.4.6)\n",
            "Requirement already satisfied: mando<0.7,>=0.6 in /usr/local/lib/python3.8/dist-packages (from radon<6,>=4->xenon) (0.6.4)\n",
            "Requirement already satisfied: six in /usr/local/lib/python3.8/dist-packages (from mando<0.7,>=0.6->radon<6,>=4->xenon) (1.15.0)\n",
            "Requirement already satisfied: chardet<4,>=3.0.2 in /usr/local/lib/python3.8/dist-packages (from requests<3.0,>=2.0->xenon) (3.0.4)\n",
            "Requirement already satisfied: certifi>=2017.4.17 in /usr/local/lib/python3.8/dist-packages (from requests<3.0,>=2.0->xenon) (2022.9.24)\n",
            "Requirement already satisfied: idna<3,>=2.5 in /usr/local/lib/python3.8/dist-packages (from requests<3.0,>=2.0->xenon) (2.10)\n",
            "Requirement already satisfied: urllib3!=1.25.0,!=1.25.1,<1.26,>=1.21.1 in /usr/local/lib/python3.8/dist-packages (from requests<3.0,>=2.0->xenon) (1.24.3)\n",
            "Installing collected packages: xenon\n",
            "Successfully installed xenon-0.9.0\n"
          ]
        }
      ]
    },
    {
      "cell_type": "code",
      "source": [
        "pip install black # "
      ],
      "metadata": {
        "id": "v7erge1FNqXT",
        "colab": {
          "base_uri": "https://localhost:8080/"
        },
        "outputId": "d0083b13-9941-4eb4-9869-f25f2d5fb075"
      },
      "execution_count": 13,
      "outputs": [
        {
          "output_type": "stream",
          "name": "stdout",
          "text": [
            "Looking in indexes: https://pypi.org/simple, https://us-python.pkg.dev/colab-wheels/public/simple/\n",
            "Collecting black\n",
            "  Downloading black-22.10.0-cp38-cp38-manylinux_2_17_x86_64.manylinux2014_x86_64.whl (1.5 MB)\n",
            "\u001b[K     |████████████████████████████████| 1.5 MB 4.8 MB/s \n",
            "\u001b[?25hCollecting click>=8.0.0\n",
            "  Downloading click-8.1.3-py3-none-any.whl (96 kB)\n",
            "\u001b[K     |████████████████████████████████| 96 kB 3.5 MB/s \n",
            "\u001b[?25hRequirement already satisfied: tomli>=1.1.0 in /usr/local/lib/python3.8/dist-packages (from black) (2.0.1)\n",
            "Requirement already satisfied: typing-extensions>=3.10.0.0 in /usr/local/lib/python3.8/dist-packages (from black) (4.1.1)\n",
            "Requirement already satisfied: platformdirs>=2 in /usr/local/lib/python3.8/dist-packages (from black) (2.5.4)\n",
            "Collecting mypy-extensions>=0.4.3\n",
            "  Downloading mypy_extensions-0.4.3-py2.py3-none-any.whl (4.5 kB)\n",
            "Collecting pathspec>=0.9.0\n",
            "  Downloading pathspec-0.10.2-py3-none-any.whl (28 kB)\n",
            "Installing collected packages: pathspec, mypy-extensions, click, black\n",
            "  Attempting uninstall: click\n",
            "    Found existing installation: click 7.1.2\n",
            "    Uninstalling click-7.1.2:\n",
            "      Successfully uninstalled click-7.1.2\n",
            "\u001b[31mERROR: pip's dependency resolver does not currently take into account all the packages that are installed. This behaviour is the source of the following dependency conflicts.\n",
            "flask 1.1.4 requires click<8.0,>=5.1, but you have click 8.1.3 which is incompatible.\u001b[0m\n",
            "Successfully installed black-22.10.0 click-8.1.3 mypy-extensions-0.4.3 pathspec-0.10.2\n"
          ]
        }
      ]
    },
    {
      "cell_type": "code",
      "source": [
        "pip install wily # "
      ],
      "metadata": {
        "id": "kGwim6mBMxv-",
        "colab": {
          "base_uri": "https://localhost:8080/"
        },
        "outputId": "cdf07279-210a-4ae5-8ef8-b22c855c4096"
      },
      "execution_count": 14,
      "outputs": [
        {
          "output_type": "stream",
          "name": "stdout",
          "text": [
            "Looking in indexes: https://pypi.org/simple, https://us-python.pkg.dev/colab-wheels/public/simple/\n",
            "Collecting wily\n",
            "  Downloading wily-1.24.0-py3-none-any.whl (65 kB)\n",
            "\u001b[K     |████████████████████████████████| 65 kB 2.2 MB/s \n",
            "\u001b[?25hRequirement already satisfied: tabulate<1.0.0,>=0.8.2 in /usr/local/lib/python3.8/dist-packages (from wily) (0.8.10)\n",
            "Requirement already satisfied: click<9.0,>=7.0 in /usr/local/lib/python3.8/dist-packages (from wily) (8.1.3)\n",
            "Collecting radon<4.1.0,>=4.0.0\n",
            "  Downloading radon-4.0.0-py2.py3-none-any.whl (49 kB)\n",
            "\u001b[K     |████████████████████████████████| 49 kB 5.7 MB/s \n",
            "\u001b[?25hCollecting gitpython<4.0.0,>=3.0.0\n",
            "  Downloading GitPython-3.1.29-py3-none-any.whl (182 kB)\n",
            "\u001b[K     |████████████████████████████████| 182 kB 11.2 MB/s \n",
            "\u001b[?25hRequirement already satisfied: plotly<6.0.0,>=4.0.0 in /usr/local/lib/python3.8/dist-packages (from wily) (5.5.0)\n",
            "Collecting progress<2.0,>=1.4\n",
            "  Downloading progress-1.6.tar.gz (7.8 kB)\n",
            "Requirement already satisfied: nbformat<6.0.0,>=5.1.3 in /usr/local/lib/python3.8/dist-packages (from wily) (5.7.0)\n",
            "Collecting colorlog<5.0.0,>=4.0.0\n",
            "  Downloading colorlog-4.8.0-py2.py3-none-any.whl (10 kB)\n",
            "Collecting gitdb<5,>=4.0.1\n",
            "  Downloading gitdb-4.0.10-py3-none-any.whl (62 kB)\n",
            "\u001b[K     |████████████████████████████████| 62 kB 1.3 MB/s \n",
            "\u001b[?25hCollecting smmap<6,>=3.0.1\n",
            "  Downloading smmap-5.0.0-py3-none-any.whl (24 kB)\n",
            "Requirement already satisfied: jupyter-core in /usr/local/lib/python3.8/dist-packages (from nbformat<6.0.0,>=5.1.3->wily) (4.11.2)\n",
            "Requirement already satisfied: jsonschema>=2.6 in /usr/local/lib/python3.8/dist-packages (from nbformat<6.0.0,>=5.1.3->wily) (4.3.3)\n",
            "Requirement already satisfied: fastjsonschema in /usr/local/lib/python3.8/dist-packages (from nbformat<6.0.0,>=5.1.3->wily) (2.16.2)\n",
            "Requirement already satisfied: traitlets>=5.1 in /usr/local/lib/python3.8/dist-packages (from nbformat<6.0.0,>=5.1.3->wily) (5.1.1)\n",
            "Requirement already satisfied: attrs>=17.4.0 in /usr/local/lib/python3.8/dist-packages (from jsonschema>=2.6->nbformat<6.0.0,>=5.1.3->wily) (22.1.0)\n",
            "Requirement already satisfied: importlib-resources>=1.4.0 in /usr/local/lib/python3.8/dist-packages (from jsonschema>=2.6->nbformat<6.0.0,>=5.1.3->wily) (5.10.0)\n",
            "Requirement already satisfied: pyrsistent!=0.17.0,!=0.17.1,!=0.17.2,>=0.14.0 in /usr/local/lib/python3.8/dist-packages (from jsonschema>=2.6->nbformat<6.0.0,>=5.1.3->wily) (0.19.2)\n",
            "Requirement already satisfied: zipp>=3.1.0 in /usr/local/lib/python3.8/dist-packages (from importlib-resources>=1.4.0->jsonschema>=2.6->nbformat<6.0.0,>=5.1.3->wily) (3.10.0)\n",
            "Requirement already satisfied: tenacity>=6.2.0 in /usr/local/lib/python3.8/dist-packages (from plotly<6.0.0,>=4.0.0->wily) (8.1.0)\n",
            "Requirement already satisfied: six in /usr/local/lib/python3.8/dist-packages (from plotly<6.0.0,>=4.0.0->wily) (1.15.0)\n",
            "Requirement already satisfied: mando<0.7,>=0.6 in /usr/local/lib/python3.8/dist-packages (from radon<4.1.0,>=4.0.0->wily) (0.6.4)\n",
            "Requirement already satisfied: future in /usr/local/lib/python3.8/dist-packages (from radon<4.1.0,>=4.0.0->wily) (0.16.0)\n",
            "Requirement already satisfied: colorama<0.5,>=0.4 in /usr/local/lib/python3.8/dist-packages (from radon<4.1.0,>=4.0.0->wily) (0.4.6)\n",
            "Collecting flake8-polyfill\n",
            "  Downloading flake8_polyfill-1.0.2-py2.py3-none-any.whl (7.3 kB)\n",
            "Collecting flake8\n",
            "  Downloading flake8-6.0.0-py2.py3-none-any.whl (57 kB)\n",
            "\u001b[K     |████████████████████████████████| 57 kB 3.2 MB/s \n",
            "\u001b[?25hCollecting pycodestyle<2.11.0,>=2.10.0\n",
            "  Downloading pycodestyle-2.10.0-py2.py3-none-any.whl (41 kB)\n",
            "\u001b[K     |████████████████████████████████| 41 kB 224 kB/s \n",
            "\u001b[?25hRequirement already satisfied: mccabe<0.8.0,>=0.7.0 in /usr/local/lib/python3.8/dist-packages (from flake8->flake8-polyfill->radon<4.1.0,>=4.0.0->wily) (0.7.0)\n",
            "Requirement already satisfied: pyflakes<3.1.0,>=3.0.0 in /usr/local/lib/python3.8/dist-packages (from flake8->flake8-polyfill->radon<4.1.0,>=4.0.0->wily) (3.0.1)\n",
            "Building wheels for collected packages: progress\n",
            "  Building wheel for progress (setup.py) ... \u001b[?25l\u001b[?25hdone\n",
            "  Created wheel for progress: filename=progress-1.6-py3-none-any.whl size=9630 sha256=39a638a9ae5fb9ac528643f7e9a405b10dd8ec73a3e1f244233f0996ada70653\n",
            "  Stored in directory: /root/.cache/pip/wheels/bb/01/5a/c916509df9b12c6465864251dbe826def8e31a16fa7da54f08\n",
            "Successfully built progress\n",
            "Installing collected packages: pycodestyle, smmap, flake8, gitdb, flake8-polyfill, radon, progress, gitpython, colorlog, wily\n",
            "  Attempting uninstall: radon\n",
            "    Found existing installation: radon 5.1.0\n",
            "    Uninstalling radon-5.1.0:\n",
            "      Successfully uninstalled radon-5.1.0\n",
            "  Attempting uninstall: colorlog\n",
            "    Found existing installation: colorlog 6.7.0\n",
            "    Uninstalling colorlog-6.7.0:\n",
            "      Successfully uninstalled colorlog-6.7.0\n",
            "Successfully installed colorlog-4.8.0 flake8-6.0.0 flake8-polyfill-1.0.2 gitdb-4.0.10 gitpython-3.1.29 progress-1.6 pycodestyle-2.10.0 radon-4.0.0 smmap-5.0.0 wily-1.24.0\n"
          ]
        }
      ]
    },
    {
      "cell_type": "code",
      "source": [
        "pip install hypothesis # "
      ],
      "metadata": {
        "id": "Xfr5IFNtOqc4",
        "colab": {
          "base_uri": "https://localhost:8080/"
        },
        "outputId": "c22d4173-1da0-487c-b52e-886b3425e478"
      },
      "execution_count": 15,
      "outputs": [
        {
          "output_type": "stream",
          "name": "stdout",
          "text": [
            "Looking in indexes: https://pypi.org/simple, https://us-python.pkg.dev/colab-wheels/public/simple/\n",
            "Collecting hypothesis\n",
            "  Downloading hypothesis-6.59.0-py3-none-any.whl (397 kB)\n",
            "\u001b[K     |████████████████████████████████| 397 kB 5.1 MB/s \n",
            "\u001b[?25hRequirement already satisfied: exceptiongroup>=1.0.0 in /usr/local/lib/python3.8/dist-packages (from hypothesis) (1.0.4)\n",
            "Requirement already satisfied: sortedcontainers<3.0.0,>=2.1.0 in /usr/local/lib/python3.8/dist-packages (from hypothesis) (2.4.0)\n",
            "Requirement already satisfied: attrs>=19.2.0 in /usr/local/lib/python3.8/dist-packages (from hypothesis) (22.1.0)\n",
            "Installing collected packages: hypothesis\n",
            "Successfully installed hypothesis-6.59.0\n"
          ]
        }
      ]
    },
    {
      "cell_type": "code",
      "source": [
        "pip install mutmut # "
      ],
      "metadata": {
        "id": "DWAOdXoFPZIi",
        "colab": {
          "base_uri": "https://localhost:8080/"
        },
        "outputId": "79acbdd6-9f3e-4083-bf41-62b41a26f921"
      },
      "execution_count": 16,
      "outputs": [
        {
          "output_type": "stream",
          "name": "stdout",
          "text": [
            "Looking in indexes: https://pypi.org/simple, https://us-python.pkg.dev/colab-wheels/public/simple/\n",
            "Collecting mutmut\n",
            "  Downloading mutmut-2.4.2.tar.gz (40 kB)\n",
            "\u001b[K     |████████████████████████████████| 40 kB 2.8 MB/s \n",
            "\u001b[?25hRequirement already satisfied: glob2 in /usr/local/lib/python3.8/dist-packages (from mutmut) (0.7)\n",
            "Requirement already satisfied: parso in /usr/local/lib/python3.8/dist-packages (from mutmut) (0.8.3)\n",
            "Requirement already satisfied: click in /usr/local/lib/python3.8/dist-packages (from mutmut) (8.1.3)\n",
            "Collecting pony\n",
            "  Downloading pony-0.7.16-py3-none-any.whl (313 kB)\n",
            "\u001b[K     |████████████████████████████████| 313 kB 9.3 MB/s \n",
            "\u001b[?25hCollecting junit-xml==1.8\n",
            "  Downloading junit-xml-1.8.tar.gz (10.0 kB)\n",
            "Requirement already satisfied: toml in /usr/local/lib/python3.8/dist-packages (from mutmut) (0.10.2)\n",
            "Requirement already satisfied: six in /usr/local/lib/python3.8/dist-packages (from junit-xml==1.8->mutmut) (1.15.0)\n",
            "Building wheels for collected packages: mutmut, junit-xml\n",
            "  Building wheel for mutmut (setup.py) ... \u001b[?25l\u001b[?25hdone\n",
            "  Created wheel for mutmut: filename=mutmut-2.4.2-py2.py3-none-any.whl size=30054 sha256=b748da784396a23a5cadf93d5e39d31124dc595c509589d5bc3f760a8b7519c6\n",
            "  Stored in directory: /root/.cache/pip/wheels/cc/1c/29/961bfc530e72707bebb8f3ccd8d3df6fd6e8c6844ed7a471ff\n",
            "  Building wheel for junit-xml (setup.py) ... \u001b[?25l\u001b[?25hdone\n",
            "  Created wheel for junit-xml: filename=junit_xml-1.8-py3-none-any.whl size=6780 sha256=6aa273b3cfe78784ca036d2097a90889563deb365f4bf7d4b28228ecb52f89db\n",
            "  Stored in directory: /root/.cache/pip/wheels/6a/e1/0a/ffa1b973d53ace64a5f20f8a88583a8dcc244a5703af813f43\n",
            "Successfully built mutmut junit-xml\n",
            "Installing collected packages: pony, junit-xml, mutmut\n",
            "Successfully installed junit-xml-1.8 mutmut-2.4.2 pony-0.7.16\n"
          ]
        }
      ]
    },
    {
      "cell_type": "code",
      "source": [
        "pip install pylint # "
      ],
      "metadata": {
        "id": "N_ZjrZssRAdH",
        "colab": {
          "base_uri": "https://localhost:8080/"
        },
        "outputId": "c101331c-d5ae-419a-8f79-894d9bec1bb3"
      },
      "execution_count": 17,
      "outputs": [
        {
          "output_type": "stream",
          "name": "stdout",
          "text": [
            "Looking in indexes: https://pypi.org/simple, https://us-python.pkg.dev/colab-wheels/public/simple/\n",
            "Collecting pylint\n",
            "  Downloading pylint-2.15.7-py3-none-any.whl (509 kB)\n",
            "\u001b[K     |████████████████████████████████| 509 kB 5.3 MB/s \n",
            "\u001b[?25hCollecting tomlkit>=0.10.1\n",
            "  Downloading tomlkit-0.11.6-py3-none-any.whl (35 kB)\n",
            "Collecting astroid<=2.14.0-dev0,>=2.12.13\n",
            "  Downloading astroid-2.12.13-py3-none-any.whl (264 kB)\n",
            "\u001b[K     |████████████████████████████████| 264 kB 48.0 MB/s \n",
            "\u001b[?25hRequirement already satisfied: typing-extensions>=3.10.0 in /usr/local/lib/python3.8/dist-packages (from pylint) (4.1.1)\n",
            "Requirement already satisfied: platformdirs>=2.2.0 in /usr/local/lib/python3.8/dist-packages (from pylint) (2.5.4)\n",
            "Collecting isort<6,>=4.2.5\n",
            "  Downloading isort-5.10.1-py3-none-any.whl (103 kB)\n",
            "\u001b[K     |████████████████████████████████| 103 kB 65.9 MB/s \n",
            "\u001b[?25hRequirement already satisfied: tomli>=1.1.0 in /usr/local/lib/python3.8/dist-packages (from pylint) (2.0.1)\n",
            "Requirement already satisfied: dill>=0.2 in /usr/local/lib/python3.8/dist-packages (from pylint) (0.3.6)\n",
            "Requirement already satisfied: mccabe<0.8,>=0.6 in /usr/local/lib/python3.8/dist-packages (from pylint) (0.7.0)\n",
            "Requirement already satisfied: wrapt<2,>=1.11 in /usr/local/lib/python3.8/dist-packages (from astroid<=2.14.0-dev0,>=2.12.13->pylint) (1.14.1)\n",
            "Collecting lazy-object-proxy>=1.4.0\n",
            "  Downloading lazy-object-proxy-1.8.0.tar.gz (41 kB)\n",
            "\u001b[K     |████████████████████████████████| 41 kB 560 kB/s \n",
            "\u001b[?25h  Installing build dependencies ... \u001b[?25l\u001b[?25hdone\n",
            "  Getting requirements to build wheel ... \u001b[?25l\u001b[?25hdone\n",
            "    Preparing wheel metadata ... \u001b[?25l\u001b[?25hdone\n",
            "Building wheels for collected packages: lazy-object-proxy\n",
            "  Building wheel for lazy-object-proxy (PEP 517) ... \u001b[?25l\u001b[?25hdone\n",
            "  Created wheel for lazy-object-proxy: filename=lazy_object_proxy-1.8.0-cp38-cp38-linux_x86_64.whl size=47933 sha256=9796807dc5174366d52a324d6bb93d4cd78b8ac5d5473b685f00ec2a66dacd85\n",
            "  Stored in directory: /root/.cache/pip/wheels/c9/25/c9/28ec53f7c41e4485df83ca5018a3f02c2debd51341b8540bb2\n",
            "Successfully built lazy-object-proxy\n",
            "Installing collected packages: lazy-object-proxy, tomlkit, isort, astroid, pylint\n",
            "Successfully installed astroid-2.12.13 isort-5.10.1 lazy-object-proxy-1.8.0 pylint-2.15.7 tomlkit-0.11.6\n"
          ]
        }
      ]
    },
    {
      "cell_type": "code",
      "source": [
        "pip install pyroma # "
      ],
      "metadata": {
        "id": "HXdWnLVTRWDv",
        "colab": {
          "base_uri": "https://localhost:8080/",
          "height": 616
        },
        "outputId": "1cc9e8b7-de22-4496-eea6-7865fda25404"
      },
      "execution_count": 18,
      "outputs": [
        {
          "output_type": "stream",
          "name": "stdout",
          "text": [
            "Looking in indexes: https://pypi.org/simple, https://us-python.pkg.dev/colab-wheels/public/simple/\n",
            "Collecting pyroma\n",
            "  Downloading pyroma-4.1-py3-none-any.whl (22 kB)\n",
            "Requirement already satisfied: pygments in /usr/local/lib/python3.8/dist-packages (from pyroma) (2.6.1)\n",
            "Requirement already satisfied: pep517 in /usr/local/lib/python3.8/dist-packages (from pyroma) (0.13.0)\n",
            "Requirement already satisfied: requests in /usr/local/lib/python3.8/dist-packages (from pyroma) (2.23.0)\n",
            "Requirement already satisfied: docutils in /usr/local/lib/python3.8/dist-packages (from pyroma) (0.17.1)\n",
            "Collecting trove-classifiers>=2022.6.26\n",
            "  Downloading trove_classifiers-2022.12.1-py3-none-any.whl (13 kB)\n",
            "Collecting build\n",
            "  Downloading build-0.9.0-py3-none-any.whl (17 kB)\n",
            "Collecting setuptools>=61.0.0\n",
            "  Using cached setuptools-65.6.3-py3-none-any.whl (1.2 MB)\n",
            "Requirement already satisfied: wheel in /usr/local/lib/python3.8/dist-packages (from pyroma) (0.38.4)\n",
            "Requirement already satisfied: tomli>=1.0.0 in /usr/local/lib/python3.8/dist-packages (from build->pyroma) (2.0.1)\n",
            "Requirement already satisfied: packaging>=19.0 in /usr/local/lib/python3.8/dist-packages (from build->pyroma) (21.3)\n",
            "Requirement already satisfied: pyparsing!=3.0.5,>=2.0.2 in /usr/local/lib/python3.8/dist-packages (from packaging>=19.0->build->pyroma) (3.0.9)\n",
            "Requirement already satisfied: urllib3!=1.25.0,!=1.25.1,<1.26,>=1.21.1 in /usr/local/lib/python3.8/dist-packages (from requests->pyroma) (1.24.3)\n",
            "Requirement already satisfied: chardet<4,>=3.0.2 in /usr/local/lib/python3.8/dist-packages (from requests->pyroma) (3.0.4)\n",
            "Requirement already satisfied: idna<3,>=2.5 in /usr/local/lib/python3.8/dist-packages (from requests->pyroma) (2.10)\n",
            "Requirement already satisfied: certifi>=2017.4.17 in /usr/local/lib/python3.8/dist-packages (from requests->pyroma) (2022.9.24)\n",
            "Installing collected packages: trove-classifiers, setuptools, build, pyroma\n",
            "  Attempting uninstall: setuptools\n",
            "    Found existing installation: setuptools 57.4.0\n",
            "    Uninstalling setuptools-57.4.0:\n",
            "      Successfully uninstalled setuptools-57.4.0\n",
            "\u001b[31mERROR: pip's dependency resolver does not currently take into account all the packages that are installed. This behaviour is the source of the following dependency conflicts.\n",
            "ipython 7.9.0 requires jedi>=0.10, which is not installed.\u001b[0m\n",
            "Successfully installed build-0.9.0 pyroma-4.1 setuptools-65.6.3 trove-classifiers-2022.12.1\n"
          ]
        },
        {
          "output_type": "display_data",
          "data": {
            "application/vnd.colab-display-data+json": {
              "pip_warning": {
                "packages": [
                  "pkg_resources"
                ]
              }
            }
          },
          "metadata": {}
        }
      ]
    },
    {
      "cell_type": "code",
      "source": [
        "pip install htmldom # "
      ],
      "metadata": {
        "colab": {
          "base_uri": "https://localhost:8080/"
        },
        "id": "UwP4sq1q6Ukp",
        "outputId": "b1a1576b-4a5a-40ea-fdb9-d354769c0380"
      },
      "execution_count": 19,
      "outputs": [
        {
          "output_type": "stream",
          "name": "stdout",
          "text": [
            "Looking in indexes: https://pypi.org/simple, https://us-python.pkg.dev/colab-wheels/public/simple/\n",
            "Collecting htmldom\n",
            "  Downloading htmldom-2.0.tar.gz (11 kB)\n",
            "Building wheels for collected packages: htmldom\n",
            "  Building wheel for htmldom (setup.py) ... \u001b[?25l\u001b[?25hdone\n",
            "  Created wheel for htmldom: filename=htmldom-2.0-py3-none-any.whl size=11116 sha256=f02c1b2582c18c9a915cf090cf8ce44a0c87ae21172854ee4d3556c1cc033851\n",
            "  Stored in directory: /root/.cache/pip/wheels/34/af/01/a5c6ac02f0856badfc9429fcb50244afcb4806d933b3d38406\n",
            "Successfully built htmldom\n",
            "Installing collected packages: htmldom\n",
            "Successfully installed htmldom-2.0\n"
          ]
        }
      ]
    },
    {
      "cell_type": "code",
      "source": [
        "pip install -U selenium # "
      ],
      "metadata": {
        "colab": {
          "base_uri": "https://localhost:8080/"
        },
        "id": "7-jEIdaa7XuL",
        "outputId": "d58cd78e-f9c8-4368-8568-fa17c42ed08b"
      },
      "execution_count": 20,
      "outputs": [
        {
          "output_type": "stream",
          "name": "stdout",
          "text": [
            "Looking in indexes: https://pypi.org/simple, https://us-python.pkg.dev/colab-wheels/public/simple/\n",
            "Collecting selenium\n",
            "  Downloading selenium-4.7.0-py3-none-any.whl (6.3 MB)\n",
            "\u001b[K     |████████████████████████████████| 6.3 MB 4.8 MB/s \n",
            "\u001b[?25hCollecting urllib3[socks]~=1.26\n",
            "  Downloading urllib3-1.26.13-py2.py3-none-any.whl (140 kB)\n",
            "\u001b[K     |████████████████████████████████| 140 kB 42.3 MB/s \n",
            "\u001b[?25hCollecting trio-websocket~=0.9\n",
            "  Downloading trio_websocket-0.9.2-py3-none-any.whl (16 kB)\n",
            "Collecting trio~=0.17\n",
            "  Downloading trio-0.22.0-py3-none-any.whl (384 kB)\n",
            "\u001b[K     |████████████████████████████████| 384 kB 46.8 MB/s \n",
            "\u001b[?25hRequirement already satisfied: certifi>=2021.10.8 in /usr/local/lib/python3.8/dist-packages (from selenium) (2022.9.24)\n",
            "Requirement already satisfied: idna in /usr/local/lib/python3.8/dist-packages (from trio~=0.17->selenium) (2.10)\n",
            "Collecting sniffio\n",
            "  Downloading sniffio-1.3.0-py3-none-any.whl (10 kB)\n",
            "Requirement already satisfied: sortedcontainers in /usr/local/lib/python3.8/dist-packages (from trio~=0.17->selenium) (2.4.0)\n",
            "Requirement already satisfied: attrs>=19.2.0 in /usr/local/lib/python3.8/dist-packages (from trio~=0.17->selenium) (22.1.0)\n",
            "Collecting async-generator>=1.9\n",
            "  Downloading async_generator-1.10-py3-none-any.whl (18 kB)\n",
            "Requirement already satisfied: exceptiongroup>=1.0.0rc9 in /usr/local/lib/python3.8/dist-packages (from trio~=0.17->selenium) (1.0.4)\n",
            "Collecting outcome\n",
            "  Downloading outcome-1.2.0-py2.py3-none-any.whl (9.7 kB)\n",
            "Collecting wsproto>=0.14\n",
            "  Downloading wsproto-1.2.0-py3-none-any.whl (24 kB)\n",
            "Requirement already satisfied: PySocks!=1.5.7,<2.0,>=1.5.6 in /usr/local/lib/python3.8/dist-packages (from urllib3[socks]~=1.26->selenium) (1.7.1)\n",
            "Collecting h11<1,>=0.9.0\n",
            "  Downloading h11-0.14.0-py3-none-any.whl (58 kB)\n",
            "\u001b[K     |████████████████████████████████| 58 kB 4.7 MB/s \n",
            "\u001b[?25hInstalling collected packages: sniffio, outcome, h11, async-generator, wsproto, urllib3, trio, trio-websocket, selenium\n",
            "  Attempting uninstall: urllib3\n",
            "    Found existing installation: urllib3 1.24.3\n",
            "    Uninstalling urllib3-1.24.3:\n",
            "      Successfully uninstalled urllib3-1.24.3\n",
            "\u001b[31mERROR: pip's dependency resolver does not currently take into account all the packages that are installed. This behaviour is the source of the following dependency conflicts.\n",
            "requests 2.23.0 requires urllib3!=1.25.0,!=1.25.1,<1.26,>=1.21.1, but you have urllib3 1.26.13 which is incompatible.\u001b[0m\n",
            "Successfully installed async-generator-1.10 h11-0.14.0 outcome-1.2.0 selenium-4.7.0 sniffio-1.3.0 trio-0.22.0 trio-websocket-0.9.2 urllib3-1.26.13 wsproto-1.2.0\n"
          ]
        }
      ]
    },
    {
      "cell_type": "code",
      "source": [
        "!pip install SymPy # "
      ],
      "metadata": {
        "colab": {
          "base_uri": "https://localhost:8080/"
        },
        "id": "srsnqoU2b7eV",
        "outputId": "72b00c45-0995-47c4-f415-201757799fc1"
      },
      "execution_count": 21,
      "outputs": [
        {
          "output_type": "stream",
          "name": "stdout",
          "text": [
            "Looking in indexes: https://pypi.org/simple, https://us-python.pkg.dev/colab-wheels/public/simple/\n",
            "Requirement already satisfied: SymPy in /usr/local/lib/python3.8/dist-packages (1.7.1)\n",
            "Requirement already satisfied: mpmath>=0.19 in /usr/local/lib/python3.8/dist-packages (from SymPy) (1.2.1)\n"
          ]
        }
      ]
    },
    {
      "cell_type": "code",
      "source": [
        "pip install nose # "
      ],
      "metadata": {
        "colab": {
          "base_uri": "https://localhost:8080/"
        },
        "id": "3ZKOKCwPb7gm",
        "outputId": "24943d38-5d63-4d4c-b531-d5e45ee7b133"
      },
      "execution_count": 22,
      "outputs": [
        {
          "output_type": "stream",
          "name": "stdout",
          "text": [
            "Looking in indexes: https://pypi.org/simple, https://us-python.pkg.dev/colab-wheels/public/simple/\n",
            "Collecting nose\n",
            "  Downloading nose-1.3.7-py3-none-any.whl (154 kB)\n",
            "\u001b[K     |████████████████████████████████| 154 kB 5.0 MB/s \n",
            "\u001b[?25hInstalling collected packages: nose\n",
            "Successfully installed nose-1.3.7\n"
          ]
        }
      ]
    },
    {
      "cell_type": "code",
      "source": [
        "pip install nose2 # "
      ],
      "metadata": {
        "colab": {
          "base_uri": "https://localhost:8080/"
        },
        "id": "tQwnpeVmgalI",
        "outputId": "4e275b84-6e35-4304-cd8c-16ed9d24df6d"
      },
      "execution_count": 23,
      "outputs": [
        {
          "output_type": "stream",
          "name": "stdout",
          "text": [
            "Looking in indexes: https://pypi.org/simple, https://us-python.pkg.dev/colab-wheels/public/simple/\n",
            "Collecting nose2\n",
            "  Downloading nose2-0.12.0-py2.py3-none-any.whl (152 kB)\n",
            "\u001b[K     |████████████████████████████████| 152 kB 5.1 MB/s \n",
            "\u001b[?25hInstalling collected packages: nose2\n",
            "Successfully installed nose2-0.12.0\n"
          ]
        }
      ]
    },
    {
      "cell_type": "code",
      "execution_count": 42,
      "metadata": {
        "id": "18egbbmrxiBB"
      },
      "outputs": [],
      "source": [
        "import htmldom # parses the HTML file and provides methods for iterating and searching and modifying the parse tree in a similar way as Jquery.\n",
        "from textblob import TextBlob # \n",
        "import random # implement pseudo random generators\n",
        "import pytest # easy to write small, readable tests, and can scale to support complex functional testing for applications and libraries.\n",
        "import doctest # searches for pieces of text that look like interactive Python sessions, and then executes those sessions to verify\n",
        "import radon # tool to compute metrics from source code\n",
        "import sys # use the file system \n",
        "import os.path # use the file system\n",
        "from unittest.mock import Mock # library for testing, replace parts in code\n",
        "import nox # command line tool for automation\n",
        "import tox # automate and standardise testing\n",
        "import xenon # monitoring tool based on Radon. It monitors your code's complexity. Ideally, Xenon is run every time you commit code.\n",
        "import wily # a command-line tool for archiving, exploring and graphing the complexity of Python source code.\n",
        "import black # python code formatter\n",
        "import hypothesis # advanced testing library for python\n",
        "from hypothesis import strategies # the gateway to property-based testing and are a fundamental part of how Hypothesis works.\n",
        "import mutmut # mutation testing system\n",
        "import pylint # static code analyzer\n",
        "import pyroma # package that gives a rating of how well a Python project complies\n",
        "from selenium import webdriver # \n",
        "from selenium.webdriver.common.by import By # \n",
        "from selenium.webdriver.common.keys import Keys # \n",
        "import unittest # rich toolset to run and construct tests\n",
        "import sympy # python library for symbolic mathematic\n",
        "import nose # test automation framework, easier testing\n",
        "import nose2 # test runner, detecting unit tests in code"
      ]
    },
    {
      "cell_type": "code",
      "source": [
        "# Example 1 - Unit test"
      ],
      "metadata": {
        "id": "a_oye4Ykb7jM"
      },
      "execution_count": 41,
      "outputs": []
    },
    {
      "cell_type": "code",
      "source": [
        "assert sum([1, 2, 3]) == 6, \"Should be 6\""
      ],
      "metadata": {
        "id": "LYqAsfqLfRHy"
      },
      "execution_count": 26,
      "outputs": []
    },
    {
      "cell_type": "code",
      "source": [
        "assert sum([1, 1, 1]) == 6, \"Should be 6\""
      ],
      "metadata": {
        "colab": {
          "base_uri": "https://localhost:8080/",
          "height": 164
        },
        "id": "MKV8S3Y6fTDH",
        "outputId": "006fe105-49ea-4253-9295-0a9163b5edc2"
      },
      "execution_count": 29,
      "outputs": [
        {
          "output_type": "error",
          "ename": "AssertionError",
          "evalue": "ignored",
          "traceback": [
            "\u001b[0;31m---------------------------------------------------------------------------\u001b[0m",
            "\u001b[0;31mAssertionError\u001b[0m                            Traceback (most recent call last)",
            "\u001b[0;32m<ipython-input-29-fa10351dd942>\u001b[0m in \u001b[0;36m<module>\u001b[0;34m\u001b[0m\n\u001b[0;32m----> 1\u001b[0;31m \u001b[0;32massert\u001b[0m \u001b[0msum\u001b[0m\u001b[0;34m(\u001b[0m\u001b[0;34m[\u001b[0m\u001b[0;36m1\u001b[0m\u001b[0;34m,\u001b[0m \u001b[0;36m1\u001b[0m\u001b[0;34m,\u001b[0m \u001b[0;36m1\u001b[0m\u001b[0;34m]\u001b[0m\u001b[0;34m)\u001b[0m \u001b[0;34m==\u001b[0m \u001b[0;36m6\u001b[0m\u001b[0;34m,\u001b[0m \u001b[0;34m\"Should be 6\"\u001b[0m\u001b[0;34m\u001b[0m\u001b[0;34m\u001b[0m\u001b[0m\n\u001b[0m",
            "\u001b[0;31mAssertionError\u001b[0m: Should be 6"
          ]
        }
      ]
    },
    {
      "cell_type": "code",
      "source": [
        "def test_sum():\n",
        "    assert sum([1, 2, 3]) == 6, \"Should be 6\"\n",
        "\n",
        "if __name__ == \"__main__\":\n",
        "    test_sum()\n",
        "    print(\"Everything passed\")"
      ],
      "metadata": {
        "colab": {
          "base_uri": "https://localhost:8080/"
        },
        "id": "AZKQn2kJfTHY",
        "outputId": "d61cce8b-634f-40bd-c08f-ec29acae1292"
      },
      "execution_count": 28,
      "outputs": [
        {
          "output_type": "stream",
          "name": "stdout",
          "text": [
            "Everything passed\n"
          ]
        }
      ]
    },
    {
      "cell_type": "code",
      "source": [
        "import unittest\n",
        "\n",
        "\n",
        "class TestSum(unittest.TestCase):\n",
        "\n",
        "    def test_sum(self):\n",
        "        self.assertEqual(sum([1, 2, 3]), 6, \"Should be 6\")\n",
        "\n",
        "    def test_sum_tuple(self):\n",
        "        self.assertEqual(sum((1, 2, 2)), 6, \"Should be 6\")\n",
        "\n",
        "if __name__ == '__main__':\n",
        "    unittest.main()"
      ],
      "metadata": {
        "colab": {
          "base_uri": "https://localhost:8080/",
          "height": 317
        },
        "id": "vYV62O5yfxJ_",
        "outputId": "eb17f0a6-0790-44a2-8d64-6cba5e8d716e"
      },
      "execution_count": 30,
      "outputs": [
        {
          "output_type": "stream",
          "name": "stderr",
          "text": [
            "E\n",
            "======================================================================\n",
            "ERROR: /root/ (unittest.loader._FailedTest)\n",
            "----------------------------------------------------------------------\n",
            "AttributeError: module '__main__' has no attribute '/root/'\n",
            "\n",
            "----------------------------------------------------------------------\n",
            "Ran 1 test in 0.002s\n",
            "\n",
            "FAILED (errors=1)\n"
          ]
        },
        {
          "output_type": "error",
          "ename": "SystemExit",
          "evalue": "ignored",
          "traceback": [
            "An exception has occurred, use %tb to see the full traceback.\n",
            "\u001b[0;31mSystemExit\u001b[0m\u001b[0;31m:\u001b[0m True\n"
          ]
        },
        {
          "output_type": "stream",
          "name": "stderr",
          "text": [
            "/usr/local/lib/python3.8/dist-packages/IPython/core/interactiveshell.py:3334: UserWarning: To exit: use 'exit', 'quit', or Ctrl-D.\n",
            "  warn(\"To exit: use 'exit', 'quit', or Ctrl-D.\", stacklevel=1)\n"
          ]
        }
      ]
    },
    {
      "cell_type": "code",
      "source": [
        "def test_sum():\n",
        "    assert sum([1, 2, 3]) == 6, \"Should be 6\"\n",
        "\n",
        "def test_sum_tuple():\n",
        "    assert sum((1, 2, 2)) == 6, \"Should be 6\"\n",
        "\n",
        "if __name__ == \"__main__\":\n",
        "    test_sum()\n",
        "    test_sum_tuple()\n",
        "    print(\"Everything passed\")"
      ],
      "metadata": {
        "colab": {
          "base_uri": "https://localhost:8080/",
          "height": 334
        },
        "id": "Zc94kP-RfTNH",
        "outputId": "411a1fcb-6e78-4149-9ea6-082d0eaad1ec"
      },
      "execution_count": 31,
      "outputs": [
        {
          "output_type": "error",
          "ename": "AssertionError",
          "evalue": "ignored",
          "traceback": [
            "\u001b[0;31m---------------------------------------------------------------------------\u001b[0m",
            "\u001b[0;31mAssertionError\u001b[0m                            Traceback (most recent call last)",
            "\u001b[0;32m<ipython-input-31-fc3e8a867025>\u001b[0m in \u001b[0;36m<module>\u001b[0;34m\u001b[0m\n\u001b[1;32m      7\u001b[0m \u001b[0;32mif\u001b[0m \u001b[0m__name__\u001b[0m \u001b[0;34m==\u001b[0m \u001b[0;34m\"__main__\"\u001b[0m\u001b[0;34m:\u001b[0m\u001b[0;34m\u001b[0m\u001b[0;34m\u001b[0m\u001b[0m\n\u001b[1;32m      8\u001b[0m     \u001b[0mtest_sum\u001b[0m\u001b[0;34m(\u001b[0m\u001b[0;34m)\u001b[0m\u001b[0;34m\u001b[0m\u001b[0;34m\u001b[0m\u001b[0m\n\u001b[0;32m----> 9\u001b[0;31m     \u001b[0mtest_sum_tuple\u001b[0m\u001b[0;34m(\u001b[0m\u001b[0;34m)\u001b[0m\u001b[0;34m\u001b[0m\u001b[0;34m\u001b[0m\u001b[0m\n\u001b[0m\u001b[1;32m     10\u001b[0m     \u001b[0mprint\u001b[0m\u001b[0;34m(\u001b[0m\u001b[0;34m\"Everything passed\"\u001b[0m\u001b[0;34m)\u001b[0m\u001b[0;34m\u001b[0m\u001b[0;34m\u001b[0m\u001b[0m\n",
            "\u001b[0;32m<ipython-input-31-fc3e8a867025>\u001b[0m in \u001b[0;36mtest_sum_tuple\u001b[0;34m()\u001b[0m\n\u001b[1;32m      3\u001b[0m \u001b[0;34m\u001b[0m\u001b[0m\n\u001b[1;32m      4\u001b[0m \u001b[0;32mdef\u001b[0m \u001b[0mtest_sum_tuple\u001b[0m\u001b[0;34m(\u001b[0m\u001b[0;34m)\u001b[0m\u001b[0;34m:\u001b[0m\u001b[0;34m\u001b[0m\u001b[0;34m\u001b[0m\u001b[0m\n\u001b[0;32m----> 5\u001b[0;31m     \u001b[0;32massert\u001b[0m \u001b[0msum\u001b[0m\u001b[0;34m(\u001b[0m\u001b[0;34m(\u001b[0m\u001b[0;36m1\u001b[0m\u001b[0;34m,\u001b[0m \u001b[0;36m2\u001b[0m\u001b[0;34m,\u001b[0m \u001b[0;36m2\u001b[0m\u001b[0;34m)\u001b[0m\u001b[0;34m)\u001b[0m \u001b[0;34m==\u001b[0m \u001b[0;36m6\u001b[0m\u001b[0;34m,\u001b[0m \u001b[0;34m\"Should be 6\"\u001b[0m\u001b[0;34m\u001b[0m\u001b[0;34m\u001b[0m\u001b[0m\n\u001b[0m\u001b[1;32m      6\u001b[0m \u001b[0;34m\u001b[0m\u001b[0m\n\u001b[1;32m      7\u001b[0m \u001b[0;32mif\u001b[0m \u001b[0m__name__\u001b[0m \u001b[0;34m==\u001b[0m \u001b[0;34m\"__main__\"\u001b[0m\u001b[0;34m:\u001b[0m\u001b[0;34m\u001b[0m\u001b[0;34m\u001b[0m\u001b[0m\n",
            "\u001b[0;31mAssertionError\u001b[0m: Should be 6"
          ]
        }
      ]
    },
    {
      "cell_type": "code",
      "source": [
        "# Example 2 - Unit test"
      ],
      "metadata": {
        "id": "a9_ZeaACnOgZ"
      },
      "execution_count": null,
      "outputs": []
    },
    {
      "cell_type": "code",
      "source": [
        "class User:\n",
        "    def __init__(self):\n",
        "        self.profile = {'active': False, 'level': 1, 'points': 0}\n",
        "    def activate(self):\n",
        "        self.profile['active'] = True\n",
        "    def is_active(self):\n",
        "        return self.profile['active']\n",
        "    def get_level(self):\n",
        "        return self.profile['level']\n",
        "    def get_points(self):\n",
        "        return self.profile['points']\n",
        "    def add_points(self, additional_points):\n",
        "        self.profile['points'] += additional_points\n",
        "        if self.get_points() > 300:\n",
        "            self.profile['level'] = 3\n",
        "        elif self.get_points() > 200:\n",
        "            self.profile['level'] = 2"
      ],
      "metadata": {
        "id": "VcC1evuPhvID"
      },
      "execution_count": 35,
      "outputs": []
    },
    {
      "cell_type": "code",
      "source": [
        "user1 = User()\n",
        "print(user1.__dict__)"
      ],
      "metadata": {
        "colab": {
          "base_uri": "https://localhost:8080/"
        },
        "id": "e5VguZMajQD8",
        "outputId": "7ed5290f-2496-4573-f9d5-df14cff83503"
      },
      "execution_count": 36,
      "outputs": [
        {
          "output_type": "stream",
          "name": "stdout",
          "text": [
            "{'profile': {'active': False, 'level': 1, 'points': 0}}\n"
          ]
        }
      ]
    },
    {
      "cell_type": "code",
      "source": [
        "user1.activate()\n",
        "print(user1.is_active())"
      ],
      "metadata": {
        "colab": {
          "base_uri": "https://localhost:8080/"
        },
        "id": "JOrag5KZjWVc",
        "outputId": "8047dd4a-1c0d-4b42-c4dc-2d962f2045d4"
      },
      "execution_count": 37,
      "outputs": [
        {
          "output_type": "stream",
          "name": "stdout",
          "text": [
            "True\n"
          ]
        }
      ]
    },
    {
      "cell_type": "code",
      "source": [
        "user1.add_points(25)\n",
        "print(user1.get_points())"
      ],
      "metadata": {
        "colab": {
          "base_uri": "https://localhost:8080/"
        },
        "id": "0PqXZrg6jbLx",
        "outputId": "93dd300a-d791-455e-e529-1e3a78654cb9"
      },
      "execution_count": 38,
      "outputs": [
        {
          "output_type": "stream",
          "name": "stdout",
          "text": [
            "25\n"
          ]
        }
      ]
    },
    {
      "cell_type": "code",
      "source": [
        "print(\"User total points: {}\".format(user1.get_points()))\n",
        "print(\"User level: {}\".format(user1.get_level()))\n",
        "user1.add_points(205)\n",
        "print(\"User total points: {}\".format(user1.get_points()))\n",
        "print(\"User level: {}\".format(user1.get_level()))"
      ],
      "metadata": {
        "colab": {
          "base_uri": "https://localhost:8080/"
        },
        "id": "fxzNE30pjbRd",
        "outputId": "84dd12d7-c63d-40f9-be94-52b219f428a8"
      },
      "execution_count": 39,
      "outputs": [
        {
          "output_type": "stream",
          "name": "stdout",
          "text": [
            "User total points: 25\n",
            "User level: 1\n",
            "User total points: 230\n",
            "User level: 2\n"
          ]
        }
      ]
    },
    {
      "cell_type": "code",
      "source": [
        "import unittest\n",
        "class TestUser(unittest.TestCase):\n",
        "    def test_user_activation(self):\n",
        "        pass\n",
        "    def test_user_points_update(self):\n",
        "        pass\n",
        "    def test_user_level_change(self):\n",
        "        pass\n",
        "if __name__ == '__main__':\n",
        "    unittest.main()"
      ],
      "metadata": {
        "colab": {
          "base_uri": "https://localhost:8080/",
          "height": 317
        },
        "id": "AyWtiDEkjWlC",
        "outputId": "b9a3a416-c9ad-4acb-8b4b-2942e8b4cd59"
      },
      "execution_count": 40,
      "outputs": [
        {
          "output_type": "stream",
          "name": "stderr",
          "text": [
            "E\n",
            "======================================================================\n",
            "ERROR: /root/ (unittest.loader._FailedTest)\n",
            "----------------------------------------------------------------------\n",
            "AttributeError: module '__main__' has no attribute '/root/'\n",
            "\n",
            "----------------------------------------------------------------------\n",
            "Ran 1 test in 0.004s\n",
            "\n",
            "FAILED (errors=1)\n"
          ]
        },
        {
          "output_type": "error",
          "ename": "SystemExit",
          "evalue": "ignored",
          "traceback": [
            "An exception has occurred, use %tb to see the full traceback.\n",
            "\u001b[0;31mSystemExit\u001b[0m\u001b[0;31m:\u001b[0m True\n"
          ]
        },
        {
          "output_type": "stream",
          "name": "stderr",
          "text": [
            "/usr/local/lib/python3.8/dist-packages/IPython/core/interactiveshell.py:3334: UserWarning: To exit: use 'exit', 'quit', or Ctrl-D.\n",
            "  warn(\"To exit: use 'exit', 'quit', or Ctrl-D.\", stacklevel=1)\n"
          ]
        }
      ]
    }
  ]
}